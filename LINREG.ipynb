{
  "nbformat": 4,
  "nbformat_minor": 0,
  "metadata": {
    "language_info": {
      "name": "python",
      "codemirror_mode": {
        "name": "ipython",
        "version": 3
      },
      "version": "3.6.9-final"
    },
    "orig_nbformat": 2,
    "file_extension": ".py",
    "mimetype": "text/x-python",
    "name": "python",
    "npconvert_exporter": "python",
    "pygments_lexer": "ipython3",
    "version": 3,
    "kernelspec": {
      "name": "python36964bitd471ecfb430a4a89adc635cfec66d499",
      "display_name": "Python 3.6.9 64-bit"
    },
    "colab": {
      "name": "LINREG.ipynb",
      "provenance": [],
      "include_colab_link": true
    }
  },
  "cells": [
    {
      "cell_type": "markdown",
      "metadata": {
        "id": "view-in-github",
        "colab_type": "text"
      },
      "source": [
        "<a href=\"https://colab.research.google.com/github/arka19das/ML/blob/master/LINREG.ipynb\" target=\"_parent\"><img src=\"https://colab.research.google.com/assets/colab-badge.svg\" alt=\"Open In Colab\"/></a>"
      ]
    },
    {
      "cell_type": "markdown",
      "metadata": {
        "id": "dcJKrGdnHKBL",
        "colab_type": "text"
      },
      "source": [
        "# Linear Regression Implemented Example\n",
        "## Here We are Implementing Linear Regression on the dataset of insurance pridecting the cost of the insurance\n",
        "### Importing all the important libraries"
      ]
    },
    {
      "cell_type": "code",
      "metadata": {
        "id": "OMLHKBhIHKBU",
        "colab_type": "code",
        "colab": {}
      },
      "source": [
        "import numpy as np\n",
        "import matplotlib.pyplot as plt\n",
        "import pandas as pd\n",
        "import random\n",
        "alpha = 0.1"
      ],
      "execution_count": 0,
      "outputs": []
    },
    {
      "cell_type": "code",
      "metadata": {
        "id": "PJDchM-yHKCB",
        "colab_type": "code",
        "colab": {}
      },
      "source": [
        "def calculateCost(X,Y,theta):\n",
        "    (m,n) = X.shape\n",
        "    H = X.dot(theta)\n",
        "    J = sum((H-Y)**2/2/m)\n",
        "    return J"
      ],
      "execution_count": 0,
      "outputs": []
    },
    {
      "cell_type": "code",
      "metadata": {
        "id": "Q89B7T29HKES",
        "colab_type": "code",
        "outputId": "8778221e-f4ef-4e31-8381-b2e0b243ab84",
        "colab": {
          "base_uri": "https://localhost:8080/",
          "height": 394
        }
      },
      "source": [
        "data = pd.read_csv('/home/shivanshu/Desktop/ML_implementation/insurance.csv')\n",
        "data = data.replace('female',1)\n",
        "data = data.replace('male',0)\n",
        "data = data.replace('yes',1)\n",
        "data = data.replace('no',0)\n",
        "data = data.drop(\"region\",axis=1)\n",
        "(m,n) = data.shape\n",
        "test = data[int(m*0.8):m].to_numpy()\n",
        "train = data[:int(m*0.8)].to_numpy()"
      ],
      "execution_count": 0,
      "outputs": [
        {
          "output_type": "display_data",
          "data": {
            "text/html": [
              "\n",
              "     <input type=\"file\" id=\"files-b7725ad1-d543-4ba4-8f70-b36479938cb9\" name=\"files[]\" multiple disabled />\n",
              "     <output id=\"result-b7725ad1-d543-4ba4-8f70-b36479938cb9\">\n",
              "      Upload widget is only available when the cell has been executed in the\n",
              "      current browser session. Please rerun this cell to enable.\n",
              "      </output>\n",
              "      <script src=\"/nbextensions/google.colab/files.js\"></script> "
            ],
            "text/plain": [
              "<IPython.core.display.HTML object>"
            ]
          },
          "metadata": {
            "tags": []
          }
        },
        {
          "output_type": "error",
          "ename": "MessageError",
          "evalue": "ignored",
          "traceback": [
            "\u001b[0;31m---------------------------------------------------------------------------\u001b[0m",
            "\u001b[0;31mMessageError\u001b[0m                              Traceback (most recent call last)",
            "\u001b[0;32m<ipython-input-4-887ba7126726>\u001b[0m in \u001b[0;36m<module>\u001b[0;34m()\u001b[0m\n\u001b[1;32m      1\u001b[0m \u001b[0;32mfrom\u001b[0m \u001b[0mgoogle\u001b[0m\u001b[0;34m.\u001b[0m\u001b[0mcolab\u001b[0m \u001b[0;32mimport\u001b[0m \u001b[0mfiles\u001b[0m\u001b[0;34m\u001b[0m\u001b[0;34m\u001b[0m\u001b[0m\n\u001b[0;32m----> 2\u001b[0;31m \u001b[0mfile\u001b[0m\u001b[0;34m=\u001b[0m\u001b[0mfiles\u001b[0m\u001b[0;34m.\u001b[0m\u001b[0mupload\u001b[0m\u001b[0;34m(\u001b[0m\u001b[0;34m)\u001b[0m\u001b[0;34m\u001b[0m\u001b[0;34m\u001b[0m\u001b[0m\n\u001b[0m\u001b[1;32m      3\u001b[0m \u001b[0mdata\u001b[0m \u001b[0;34m=\u001b[0m \u001b[0mpd\u001b[0m\u001b[0;34m.\u001b[0m\u001b[0mread_csv\u001b[0m\u001b[0;34m(\u001b[0m\u001b[0;34m'insurance.csv'\u001b[0m\u001b[0;34m,\u001b[0m\u001b[0mheader\u001b[0m\u001b[0;34m=\u001b[0m\u001b[0;32mNone\u001b[0m\u001b[0;34m)\u001b[0m\u001b[0;34m\u001b[0m\u001b[0;34m\u001b[0m\u001b[0m\n\u001b[1;32m      4\u001b[0m \u001b[0mdata\u001b[0m \u001b[0;34m=\u001b[0m \u001b[0mdata\u001b[0m\u001b[0;34m.\u001b[0m\u001b[0mreplace\u001b[0m\u001b[0;34m(\u001b[0m\u001b[0;34m'female'\u001b[0m\u001b[0;34m,\u001b[0m\u001b[0;36m1\u001b[0m\u001b[0;34m)\u001b[0m\u001b[0;34m\u001b[0m\u001b[0;34m\u001b[0m\u001b[0m\n\u001b[1;32m      5\u001b[0m \u001b[0mdata\u001b[0m \u001b[0;34m=\u001b[0m \u001b[0mdata\u001b[0m\u001b[0;34m.\u001b[0m\u001b[0mreplace\u001b[0m\u001b[0;34m(\u001b[0m\u001b[0;34m'male'\u001b[0m\u001b[0;34m,\u001b[0m\u001b[0;36m0\u001b[0m\u001b[0;34m)\u001b[0m\u001b[0;34m\u001b[0m\u001b[0;34m\u001b[0m\u001b[0m\n",
            "\u001b[0;32m/usr/local/lib/python3.6/dist-packages/google/colab/files.py\u001b[0m in \u001b[0;36mupload\u001b[0;34m()\u001b[0m\n\u001b[1;32m     62\u001b[0m   result = _output.eval_js(\n\u001b[1;32m     63\u001b[0m       'google.colab._files._uploadFiles(\"{input_id}\", \"{output_id}\")'.format(\n\u001b[0;32m---> 64\u001b[0;31m           input_id=input_id, output_id=output_id))\n\u001b[0m\u001b[1;32m     65\u001b[0m   \u001b[0mfiles\u001b[0m \u001b[0;34m=\u001b[0m \u001b[0m_collections\u001b[0m\u001b[0;34m.\u001b[0m\u001b[0mdefaultdict\u001b[0m\u001b[0;34m(\u001b[0m\u001b[0m_six\u001b[0m\u001b[0;34m.\u001b[0m\u001b[0mbinary_type\u001b[0m\u001b[0;34m)\u001b[0m\u001b[0;34m\u001b[0m\u001b[0;34m\u001b[0m\u001b[0m\n\u001b[1;32m     66\u001b[0m   \u001b[0;31m# Mapping from original filename to filename as saved locally.\u001b[0m\u001b[0;34m\u001b[0m\u001b[0;34m\u001b[0m\u001b[0;34m\u001b[0m\u001b[0m\n",
            "\u001b[0;32m/usr/local/lib/python3.6/dist-packages/google/colab/output/_js.py\u001b[0m in \u001b[0;36meval_js\u001b[0;34m(script, ignore_result)\u001b[0m\n\u001b[1;32m     37\u001b[0m   \u001b[0;32mif\u001b[0m \u001b[0mignore_result\u001b[0m\u001b[0;34m:\u001b[0m\u001b[0;34m\u001b[0m\u001b[0;34m\u001b[0m\u001b[0m\n\u001b[1;32m     38\u001b[0m     \u001b[0;32mreturn\u001b[0m\u001b[0;34m\u001b[0m\u001b[0;34m\u001b[0m\u001b[0m\n\u001b[0;32m---> 39\u001b[0;31m   \u001b[0;32mreturn\u001b[0m \u001b[0m_message\u001b[0m\u001b[0;34m.\u001b[0m\u001b[0mread_reply_from_input\u001b[0m\u001b[0;34m(\u001b[0m\u001b[0mrequest_id\u001b[0m\u001b[0;34m)\u001b[0m\u001b[0;34m\u001b[0m\u001b[0;34m\u001b[0m\u001b[0m\n\u001b[0m\u001b[1;32m     40\u001b[0m \u001b[0;34m\u001b[0m\u001b[0m\n\u001b[1;32m     41\u001b[0m \u001b[0;34m\u001b[0m\u001b[0m\n",
            "\u001b[0;32m/usr/local/lib/python3.6/dist-packages/google/colab/_message.py\u001b[0m in \u001b[0;36mread_reply_from_input\u001b[0;34m(message_id, timeout_sec)\u001b[0m\n\u001b[1;32m    104\u001b[0m         reply.get('colab_msg_id') == message_id):\n\u001b[1;32m    105\u001b[0m       \u001b[0;32mif\u001b[0m \u001b[0;34m'error'\u001b[0m \u001b[0;32min\u001b[0m \u001b[0mreply\u001b[0m\u001b[0;34m:\u001b[0m\u001b[0;34m\u001b[0m\u001b[0;34m\u001b[0m\u001b[0m\n\u001b[0;32m--> 106\u001b[0;31m         \u001b[0;32mraise\u001b[0m \u001b[0mMessageError\u001b[0m\u001b[0;34m(\u001b[0m\u001b[0mreply\u001b[0m\u001b[0;34m[\u001b[0m\u001b[0;34m'error'\u001b[0m\u001b[0;34m]\u001b[0m\u001b[0;34m)\u001b[0m\u001b[0;34m\u001b[0m\u001b[0;34m\u001b[0m\u001b[0m\n\u001b[0m\u001b[1;32m    107\u001b[0m       \u001b[0;32mreturn\u001b[0m \u001b[0mreply\u001b[0m\u001b[0;34m.\u001b[0m\u001b[0mget\u001b[0m\u001b[0;34m(\u001b[0m\u001b[0;34m'data'\u001b[0m\u001b[0;34m,\u001b[0m \u001b[0;32mNone\u001b[0m\u001b[0;34m)\u001b[0m\u001b[0;34m\u001b[0m\u001b[0;34m\u001b[0m\u001b[0m\n\u001b[1;32m    108\u001b[0m \u001b[0;34m\u001b[0m\u001b[0m\n",
            "\u001b[0;31mMessageError\u001b[0m: TypeError: Cannot read property '_uploadFiles' of undefined"
          ]
        }
      ]
    },
    {
      "cell_type": "code",
      "metadata": {
        "id": "eBD6gFULHKEh",
        "colab_type": "code",
        "colab": {}
      },
      "source": [
        "# train = np.hstack((train,train**2))\n",
        "Y = train[:,-1:]\n",
        "X = train[:,:-1]\n",
        "X = np.hstack((X,X**2))\n",
        "mean = X.mean(axis=0)\n",
        "var = X.var(axis=0)\n",
        "X = (X-mean)/var\n",
        "(m,n) = X.shape\n",
        "temp = np.ones(m)\n",
        "temp = temp.reshape(m,1)\n",
        "X = np.append(temp,X,axis=1)\n",
        "Ymean = Y.mean(axis=0)\n",
        "Yvar = Y.var(axis=0)\n",
        "Y = (Y-Ymean)/Yvar\n",
        "\n",
        "Ytest = test[:,-1:]\n",
        "Xtest = test[:,:-1]\n",
        "Xtest = np.hstack((Xtest,Xtest**2))\n",
        "Xtest = (Xtest-mean)/var\n",
        "(m,n) = Xtest.shape\n",
        "temp = np.ones(m)\n",
        "temp = temp.reshape(m,1)\n",
        "Xtest = np.append(temp,Xtest,axis=1)\n",
        "Ytest = (Ytest-Ymean)/Yvar"
      ],
      "execution_count": 0,
      "outputs": []
    },
    {
      "cell_type": "code",
      "metadata": {
        "id": "qBW6hVsuHKEt",
        "colab_type": "code",
        "colab": {}
      },
      "source": [
        "theta = np.random.randn(n+1,1)"
      ],
      "execution_count": 0,
      "outputs": []
    },
    {
      "cell_type": "code",
      "metadata": {
        "id": "ujuQHUnXHKE6",
        "colab_type": "code",
        "outputId": "f4d90bed-4ef2-40bd-def4-4fd51a704147",
        "colab": {}
      },
      "source": [
        "thetaN = np.linalg.pinv((np.transpose(X))@X)@(np.transpose(X))@Y\n",
        "print(thetaN)\n",
        "calculateCost(X,Y,thetaN)"
      ],
      "execution_count": 0,
      "outputs": [
        {
          "output_type": "stream",
          "text": [
            "[[-9.40115582e-20]\n",
            " [-9.23491145e-05]\n",
            " [ 1.96042731e-07]\n",
            " [ 1.93450901e-04]\n",
            " [ 1.30838297e-05]\n",
            " [ 1.31458310e-05]\n",
            " [ 3.64584658e-02]\n",
            " [ 1.96034897e-07]\n",
            " [-7.17133638e-03]\n",
            " [-2.71626325e-05]\n",
            " [ 1.31458364e-05]]\n"
          ],
          "name": "stdout"
        },
        {
          "output_type": "execute_result",
          "data": {
            "text/plain": [
              "array([8.60408339e-10])"
            ]
          },
          "metadata": {
            "tags": []
          },
          "execution_count": 7
        }
      ]
    },
    {
      "cell_type": "code",
      "metadata": {
        "tags": [
          "outputPrepend",
          "outputPrepend",
          "outputPrepend",
          "outputPrepend",
          "outputPrepend",
          "outputPrepend",
          "outputPrepend",
          "outputPrepend",
          "outputPrepend",
          "outputPrepend",
          "outputPrepend",
          "outputPrepend",
          "outputPrepend",
          "outputPrepend",
          "outputPrepend",
          "outputPrepend",
          "outputPrepend",
          "outputPrepend",
          "outputPrepend",
          "outputPrepend",
          "outputPrepend",
          "outputPrepend",
          "outputPrepend",
          "outputPrepend",
          "outputPrepend",
          "outputPrepend",
          "outputPrepend",
          "outputPrepend",
          "outputPrepend",
          "outputPrepend",
          "outputPrepend",
          "outputPrepend",
          "outputPrepend",
          "outputPrepend",
          "outputPrepend",
          "outputPrepend",
          "outputPrepend",
          "outputPrepend",
          "outputPrepend",
          "outputPrepend",
          "outputPrepend",
          "outputPrepend",
          "outputPrepend",
          "outputPrepend",
          "outputPrepend",
          "outputPrepend",
          "outputPrepend",
          "outputPrepend",
          "outputPrepend",
          "outputPrepend",
          "outputPrepend",
          "outputPrepend",
          "outputPrepend",
          "outputPrepend",
          "outputPrepend",
          "outputPrepend"
        ],
        "id": "hIfbpXbHHKFM",
        "colab_type": "code",
        "colab": {}
      },
      "source": [
        "# cost = calculateCost(X,Y,theta)\n",
        "# costs =[cost]\n",
        "# for i in range(15000):\n",
        "#     (m,n) = X.shape\n",
        "#     update = ((np.transpose(X@theta-Y))@X).reshape(n,1)*alpha/m\n",
        "#     theta = theta - update\n",
        "#     cost = calculateCost(X,Y,theta)\n",
        "#     costs.append(cost)\n",
        "#     print(cost)\n",
        "#     print(theta)\n",
        "#     if i>2 and costs[-2]<cost:\n",
        "#         print(\"DIVERGING\")\n",
        "#         break\n",
        "\n",
        "# plt.plot(costs)\n",
        "# plt.ylabel('cost')\n",
        "# plt.xlabel('iteration')\n",
        "# plt.show()"
      ],
      "execution_count": 0,
      "outputs": []
    },
    {
      "cell_type": "code",
      "metadata": {
        "id": "8dAftV_9HKFZ",
        "colab_type": "code",
        "outputId": "be6e8dfa-6f10-4b56-c297-30136b4556b8",
        "colab": {}
      },
      "source": [
        "Htest = Xtest.dot(thetaN)\n",
        "err = sum((Htest-Ytest)**2)/2/m\n",
        "print(err) #test error"
      ],
      "execution_count": 0,
      "outputs": [
        {
          "output_type": "stream",
          "text": [
            "[8.64655949e-10]\n"
          ],
          "name": "stdout"
        }
      ]
    },
    {
      "cell_type": "code",
      "metadata": {
        "id": "KmHqvCQNHKFl",
        "colab_type": "code",
        "colab": {}
      },
      "source": [
        "def predict(A,theta):\n",
        "    # print(A)\n",
        "    # A = (A-mean)/var\n",
        "    # print(A.shape)\n",
        "    return (np.transpose(A))@theta"
      ],
      "execution_count": 0,
      "outputs": []
    },
    {
      "cell_type": "code",
      "metadata": {
        "id": "JgWGmLFrHKFw",
        "colab_type": "code",
        "outputId": "8839c738-5693-4a36-a77e-d342adab5a73",
        "colab": {}
      },
      "source": [
        "age,sex,bmi,children,smoker = 42,1,40.37,2,1\n",
        "listp = [age,sex,bmi,children,smoker,age**2,sex**2,bmi**2,children**2,smoker**2]\n",
        "listp = (listp - mean)/var\n",
        "A = np.array(listp)\n",
        "lis = [1]\n",
        "b = np.array(lis)\n",
        "b = b.reshape(1,1)\n",
        "A = A.reshape(10,1)\n",
        "# print(b.shape,A.shape)\n",
        "A = np.append(b,A,axis=0)\n",
        "predict(A,thetaN)*Yvar + Ymean"
      ],
      "execution_count": 0,
      "outputs": [
        {
          "output_type": "execute_result",
          "data": {
            "text/plain": [
              "array([[35813.304303]])"
            ]
          },
          "metadata": {
            "tags": []
          },
          "execution_count": 36
        }
      ]
    },
    {
      "cell_type": "code",
      "metadata": {
        "id": "c7J_7QkaHKF6",
        "colab_type": "code",
        "colab": {}
      },
      "source": [
        ""
      ],
      "execution_count": 0,
      "outputs": []
    }
  ]
}