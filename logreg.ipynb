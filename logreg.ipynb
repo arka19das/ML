{
  "nbformat": 4,
  "nbformat_minor": 0,
  "metadata": {
    "kernelspec": {
      "display_name": "Python 3",
      "language": "python",
      "name": "python3"
    },
    "language_info": {
      "codemirror_mode": {
        "name": "ipython",
        "version": 3
      },
      "file_extension": ".py",
      "mimetype": "text/x-python",
      "name": "python",
      "nbconvert_exporter": "python",
      "pygments_lexer": "ipython3",
      "version": "3.7.4-final"
    },
    "colab": {
      "name": "logreg.ipynb",
      "provenance": [],
      "collapsed_sections": [],
      "include_colab_link": true
    }
  },
  "cells": [
    {
      "cell_type": "markdown",
      "metadata": {
        "id": "view-in-github",
        "colab_type": "text"
      },
      "source": [
        "<a href=\"https://colab.research.google.com/github/arka19das/ML/blob/master/logreg.ipynb\" target=\"_parent\"><img src=\"https://colab.research.google.com/assets/colab-badge.svg\" alt=\"Open In Colab\"/></a>"
      ]
    },
    {
      "cell_type": "code",
      "metadata": {
        "id": "CzXhQ6h0Ho8p",
        "colab_type": "code",
        "colab": {}
      },
      "source": [
        "import pandas as pd\n",
        "import numpy as np \n",
        "import scipy\n",
        "\n",
        "import matplotlib.pyplot as plt"
      ],
      "execution_count": 0,
      "outputs": []
    },
    {
      "cell_type": "code",
      "metadata": {
        "id": "Cnn7o2mhHo87",
        "colab_type": "code",
        "outputId": "2ef3098c-594c-4ca9-cd1a-d37d48844c7b",
        "colab": {
          "base_uri": "https://localhost:8080/",
          "height": 195
        }
      },
      "source": [
        "data=pd.read_csv(\"ex2data1.txt\",header=None,)\n",
        "\n",
        "data.head()\n"
      ],
      "execution_count": 0,
      "outputs": [
        {
          "output_type": "execute_result",
          "data": {
            "text/html": [
              "<div>\n",
              "<style scoped>\n",
              "    .dataframe tbody tr th:only-of-type {\n",
              "        vertical-align: middle;\n",
              "    }\n",
              "\n",
              "    .dataframe tbody tr th {\n",
              "        vertical-align: top;\n",
              "    }\n",
              "\n",
              "    .dataframe thead th {\n",
              "        text-align: right;\n",
              "    }\n",
              "</style>\n",
              "<table border=\"1\" class=\"dataframe\">\n",
              "  <thead>\n",
              "    <tr style=\"text-align: right;\">\n",
              "      <th></th>\n",
              "      <th>0</th>\n",
              "      <th>1</th>\n",
              "      <th>2</th>\n",
              "    </tr>\n",
              "  </thead>\n",
              "  <tbody>\n",
              "    <tr>\n",
              "      <th>0</th>\n",
              "      <td>34.623660</td>\n",
              "      <td>78.024693</td>\n",
              "      <td>0</td>\n",
              "    </tr>\n",
              "    <tr>\n",
              "      <th>1</th>\n",
              "      <td>30.286711</td>\n",
              "      <td>43.894998</td>\n",
              "      <td>0</td>\n",
              "    </tr>\n",
              "    <tr>\n",
              "      <th>2</th>\n",
              "      <td>35.847409</td>\n",
              "      <td>72.902198</td>\n",
              "      <td>0</td>\n",
              "    </tr>\n",
              "    <tr>\n",
              "      <th>3</th>\n",
              "      <td>60.182599</td>\n",
              "      <td>86.308552</td>\n",
              "      <td>1</td>\n",
              "    </tr>\n",
              "    <tr>\n",
              "      <th>4</th>\n",
              "      <td>79.032736</td>\n",
              "      <td>75.344376</td>\n",
              "      <td>1</td>\n",
              "    </tr>\n",
              "  </tbody>\n",
              "</table>\n",
              "</div>"
            ],
            "text/plain": [
              "           0          1  2\n",
              "0  34.623660  78.024693  0\n",
              "1  30.286711  43.894998  0\n",
              "2  35.847409  72.902198  0\n",
              "3  60.182599  86.308552  1\n",
              "4  79.032736  75.344376  1"
            ]
          },
          "metadata": {
            "tags": []
          },
          "execution_count": 99
        }
      ]
    },
    {
      "cell_type": "code",
      "metadata": {
        "id": "q09TnnsRHo9J",
        "colab_type": "code",
        "outputId": "5d133877-9d45-4d03-c994-7a8e131eebc5",
        "colab": {
          "base_uri": "https://localhost:8080/",
          "height": 514
        }
      },
      "source": [
        "positive = data[data[2].isin([1])]\n",
        "negative = data[data[2].isin([0])]\n",
        "\n",
        "fig, ax = plt.subplots(figsize=(12,8))\n",
        "ax.scatter(positive[0], positive[1], s=50, c='b', marker='o', label='Admitted')\n",
        "ax.scatter(negative[0], negative[1], s=50, c='r', marker='x', label='Not Admitted')\n",
        "ax.legend()\n",
        "ax.set_xlabel('input1')\n",
        "ax.set_ylabel('input2')"
      ],
      "execution_count": 0,
      "outputs": [
        {
          "output_type": "execute_result",
          "data": {
            "text/plain": [
              "Text(0, 0.5, 'input2')"
            ]
          },
          "metadata": {
            "tags": []
          },
          "execution_count": 100
        },
        {
          "output_type": "display_data",
          "data": {
            "image/png": "[encoded data removed]",
            "text/plain": [
              "<Figure size 864x576 with 1 Axes>"
            ]
          },
          "metadata": {
            "tags": [],
            "needs_background": "light"
          }
        }
      ]
    },
    {
      "cell_type": "code",
      "metadata": {
        "id": "gQgb-Zw_Ho9Q",
        "colab_type": "code",
        "colab": {}
      },
      "source": [
        "def sigmoid(x):\n",
        "    sig=1/(1+np.exp(-x))\n",
        "    return sig\n",
        "\n"
      ],
      "execution_count": 0,
      "outputs": []
    },
    {
      "cell_type": "code",
      "metadata": {
        "id": "rUPai10vHo9W",
        "colab_type": "code",
        "colab": {}
      },
      "source": [
        "def cost(X,y,theta):\n",
        "    (m,n)=X.shape\n",
        "    ypred=sigmoid(np.matmul(X,theta))\n",
        "    cost=-np.sum(y*np.log(ypred)+(1-y)*np.log(1-ypred))\n",
        "    return cost/m\n",
        "\n"
      ],
      "execution_count": 0,
      "outputs": []
    },
    {
      "cell_type": "code",
      "metadata": {
        "id": "S2IQTOHCHo9a",
        "colab_type": "code",
        "colab": {}
      },
      "source": [
        "data=np.array(data)"
      ],
      "execution_count": 0,
      "outputs": []
    },
    {
      "cell_type": "code",
      "metadata": {
        "id": "oVt5cUPHHo9f",
        "colab_type": "code",
        "outputId": "09b79a36-f3fe-4fe3-95e5-ec682f284733",
        "colab": {
          "base_uri": "https://localhost:8080/",
          "height": 1000
        }
      },
      "source": [
        "X=data[:,:-1]\n",
        "\n",
        "Y=data[:,-1]\n",
        "(m,n)=X.shape\n",
        "Y=Y.reshape(m,1)\n",
        "one=np.ones((m,1))\n",
        "X=np.append(X,one,axis=1)\n",
        "n=n+1\n",
        "Y"
      ],
      "execution_count": 0,
      "outputs": [
        {
          "output_type": "execute_result",
          "data": {
            "text/plain": [
              "array([[0.],\n",
              "       [0.],\n",
              "       [0.],\n",
              "       [1.],\n",
              "       [1.],\n",
              "       [0.],\n",
              "       [1.],\n",
              "       [1.],\n",
              "       [1.],\n",
              "       [1.],\n",
              "       [0.],\n",
              "       [0.],\n",
              "       [1.],\n",
              "       [1.],\n",
              "       [0.],\n",
              "       [1.],\n",
              "       [1.],\n",
              "       [0.],\n",
              "       [1.],\n",
              "       [1.],\n",
              "       [0.],\n",
              "       [1.],\n",
              "       [0.],\n",
              "       [0.],\n",
              "       [1.],\n",
              "       [1.],\n",
              "       [1.],\n",
              "       [0.],\n",
              "       [0.],\n",
              "       [0.],\n",
              "       [1.],\n",
              "       [1.],\n",
              "       [0.],\n",
              "       [1.],\n",
              "       [0.],\n",
              "       [0.],\n",
              "       [0.],\n",
              "       [1.],\n",
              "       [0.],\n",
              "       [0.],\n",
              "       [1.],\n",
              "       [0.],\n",
              "       [1.],\n",
              "       [0.],\n",
              "       [0.],\n",
              "       [0.],\n",
              "       [1.],\n",
              "       [1.],\n",
              "       [1.],\n",
              "       [1.],\n",
              "       [1.],\n",
              "       [1.],\n",
              "       [1.],\n",
              "       [0.],\n",
              "       [0.],\n",
              "       [0.],\n",
              "       [1.],\n",
              "       [0.],\n",
              "       [1.],\n",
              "       [1.],\n",
              "       [1.],\n",
              "       [0.],\n",
              "       [0.],\n",
              "       [0.],\n",
              "       [0.],\n",
              "       [0.],\n",
              "       [1.],\n",
              "       [0.],\n",
              "       [1.],\n",
              "       [1.],\n",
              "       [0.],\n",
              "       [1.],\n",
              "       [1.],\n",
              "       [1.],\n",
              "       [1.],\n",
              "       [1.],\n",
              "       [1.],\n",
              "       [1.],\n",
              "       [0.],\n",
              "       [0.],\n",
              "       [1.],\n",
              "       [1.],\n",
              "       [1.],\n",
              "       [1.],\n",
              "       [1.],\n",
              "       [1.],\n",
              "       [0.],\n",
              "       [1.],\n",
              "       [1.],\n",
              "       [0.],\n",
              "       [1.],\n",
              "       [1.],\n",
              "       [0.],\n",
              "       [1.],\n",
              "       [1.],\n",
              "       [1.],\n",
              "       [1.],\n",
              "       [1.],\n",
              "       [1.],\n",
              "       [1.]])"
            ]
          },
          "metadata": {
            "tags": []
          },
          "execution_count": 104
        }
      ]
    },
    {
      "cell_type": "code",
      "metadata": {
        "id": "UxeggAQUHo9j",
        "colab_type": "code",
        "colab": {}
      },
      "source": [
        "Xtrain=X[0:int(m*0.8)]\n",
        "Ytrain=X[0:int(m*0.8)]\n",
        "Xtest=X[int(m*0.8):m]\n",
        "Ytest=Y[int(m*0.8):m]\n"
      ],
      "execution_count": 0,
      "outputs": []
    },
    {
      "cell_type": "code",
      "metadata": {
        "id": "kXovnxBiHo9n",
        "colab_type": "code",
        "colab": {}
      },
      "source": [
        "#theta=np.random.randn(n,1)\n",
        "\n",
        "#theta=theta.reshape((n,1))\n",
        "\n",
        "\n"
      ],
      "execution_count": 0,
      "outputs": []
    },
    {
      "cell_type": "code",
      "metadata": {
        "id": "1wyIvtvVHo9q",
        "colab_type": "code",
        "outputId": "5600bcb1-16cf-427d-cf82-1610b1415851",
        "colab": {
          "base_uri": "https://localhost:8080/",
          "height": 34
        }
      },
      "source": [
        "#CHECKING COST FUNCTION AND THETA\n",
        "theta=np.zeros((3,1))\n",
        "theta=theta.reshape((n,1))\n",
        "\n",
        "print(cost(X, Y, theta))"
      ],
      "execution_count": 0,
      "outputs": [
        {
          "output_type": "stream",
          "text": [
            "0.6931471805599453\n"
          ],
          "name": "stdout"
        }
      ]
    },
    {
      "cell_type": "code",
      "metadata": {
        "id": "ih216h3OHo9u",
        "colab_type": "code",
        "colab": {}
      },
      "source": [
        "def gradient_descent(X,Y,theta,itercount,alpha=0.001):\n",
        "    temp=np.zeros(theta.shape)\n",
        "    (m,n)=X.shape\n",
        "    cost1=np.zeros(itercount)\n",
        "    for i in range(itercount):\n",
        "        error=sigmoid(np.matmul(X,theta))-Y\n",
        "        t=(np.sum(X*error,axis=0)).reshape(n,1)\n",
        "        \n",
        "        temp=temp-alpha/m*t\n",
        "        theta=temp\n",
        "        cost1[i]=cost(X,Y,theta)    \n",
        "    return temp,cost1\n"
      ],
      "execution_count": 0,
      "outputs": []
    },
    {
      "cell_type": "code",
      "metadata": {
        "id": "jFfoFJHDHo9x",
        "colab_type": "code",
        "outputId": "5dffa388-0878-43af-ebf9-4b1c6e11edb3",
        "colab": {
          "base_uri": "https://localhost:8080/",
          "height": 84
        }
      },
      "source": [
        "iter_count = 2000000\n",
        "alpha = 0.001\n",
        "g, cost1 = gradient_descent(X, Y, theta,iter_count,alpha)\n",
        "print(g,cost1[1999990:2000000])"
      ],
      "execution_count": 0,
      "outputs": [
        {
          "output_type": "stream",
          "text": [
            "[[  0.15767916]\n",
            " [  0.15228738]\n",
            " [-19.08468795]] [0.21041331 0.2104133  0.21041329 0.21041329 0.21041328 0.21041327\n",
            " 0.21041327 0.21041326 0.21041325 0.21041325]\n"
          ],
          "name": "stdout"
        }
      ]
    },
    {
      "cell_type": "code",
      "metadata": {
        "id": "BIQbCO5yHo92",
        "colab_type": "code",
        "outputId": "972fb213-4ceb-4a2a-9fed-c7af2d1636e9",
        "colab": {
          "base_uri": "https://localhost:8080/",
          "height": 34
        }
      },
      "source": [
        "print(cost(X,Y,g))"
      ],
      "execution_count": 0,
      "outputs": [
        {
          "output_type": "stream",
          "text": [
            "0.2104132459432896\n"
          ],
          "name": "stdout"
        }
      ]
    },
    {
      "cell_type": "code",
      "metadata": {
        "id": "jHMsePA0Ho95",
        "colab_type": "code",
        "outputId": "4614aeb9-5f32-48dc-88ac-bba9f30971c9",
        "colab": {
          "base_uri": "https://localhost:8080/",
          "height": 530
        }
      },
      "source": [
        "#copied from martha\n",
        "data = pd.read_csv(\"ex2data1.txt\", header = None, names = [\"Input1\", \"Input2\", \"Output\"])\n",
        "data.head()\n",
        "x1 = np.linspace(data.Input1.min(), data.Input1.max(),100)\n",
        "x2 = np.linspace(data.Input2.min(), data.Input2.max(),100)\n",
        "h = -(g[2] + (g[1] * x1))/(g[0])\n",
        "positive = data[data['Output'].isin([1])]\n",
        "negative = data[data['Output'].isin([0])]\n",
        "fig, ax = plt.subplots(figsize=(12,8))\n",
        "# ax.scatter(data.Input1, data.Input2, label='Training Data')\n",
        "ax.scatter(positive['Input1'], positive['Input2'], s=50, c='b', marker='o', label='Positive')\n",
        "ax.scatter(negative['Input1'], negative['Input2'], s=50, c='r', marker='x', label='Negative')\n",
        "# ax.plot(x1, x2, 'r', label='Prediction')\n",
        "ax.plot(x1, h, 'b', label='Decision Boundary')\n",
        "\n",
        "ax.legend(loc=1)\n",
        "ax.set_xlabel(\"Input1\")\n",
        "ax.set_ylabel(\"Input2\")\n",
        "ax.set_title(\"Logistic Regression Prediction\")"
      ],
      "execution_count": 0,
      "outputs": [
        {
          "output_type": "execute_result",
          "data": {
            "text/plain": [
              "Text(0.5, 1.0, 'Logistic Regression Prediction')"
            ]
          },
          "metadata": {
            "tags": []
          },
          "execution_count": 109
        },
        {
          "output_type": "display_data",
          "data": {
            "image/png": "[encoded data removed]",
            "text/plain": [
              "<Figure size 864x576 with 1 Axes>"
            ]
          },
          "metadata": {
            "tags": [],
            "needs_background": "light"
          }
        }
      ]
    },
    {
      "cell_type": "code",
      "metadata": {
        "id": "v4TduBpLMzeM",
        "colab_type": "code",
        "outputId": "4a6dc340-9959-4a4b-d60e-d6c15eba6257",
        "colab": {
          "base_uri": "https://localhost:8080/",
          "height": 34
        }
      },
      "source": [
        "def predict(X,theta):\n",
        "  return sigmoid(np.matmul(X,theta))\n",
        "ypred=(predict(X,g))\n",
        "for i in range(0,m):\n",
        "  if(ypred[i]>0.5):\n",
        "    ypred[i]=1\n",
        "  if(ypred[i]<=0.5):\n",
        "    ypred[i]=0\n",
        "print(sum((ypred==Y)*1)/m)"
      ],
      "execution_count": 0,
      "outputs": [
        {
          "output_type": "stream",
          "text": [
            "[0.89]\n"
          ],
          "name": "stdout"
        }
      ]
    },
    {
      "cell_type": "code",
      "metadata": {
        "id": "mdOCMm9EN0kC",
        "colab_type": "code",
        "colab": {}
      },
      "source": [
        ""
      ],
      "execution_count": 0,
      "outputs": []
    }
  ]
}