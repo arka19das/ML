{
  "nbformat": 4,
  "nbformat_minor": 0,
  "metadata": {
    "colab": {
      "name": "fashionmnist.ipynb",
      "provenance": [],
      "collapsed_sections": [],
      "authorship_tag": "ABX9TyMQErRnkAmus4IceFz0dS3/",
      "include_colab_link": true
    },
    "kernelspec": {
      "name": "python3",
      "display_name": "Python 3"
    }
  },
  "cells": [
    {
      "cell_type": "markdown",
      "metadata": {
        "id": "view-in-github",
        "colab_type": "text"
      },
      "source": [
        "<a href=\"https://colab.research.google.com/github/arka19das/ML/blob/master/fashionmnist.ipynb\" target=\"_parent\"><img src=\"https://colab.research.google.com/assets/colab-badge.svg\" alt=\"Open In Colab\"/></a>"
      ]
    },
    {
      "cell_type": "code",
      "metadata": {
        "id": "KjLgRPV1Qgtk",
        "colab_type": "code",
        "outputId": "bd1b1739-edad-411c-b980-e05e645c176b",
        "colab": {
          "base_uri": "https://localhost:8080/",
          "height": 34
        }
      },
      "source": [
        "import tensorflow as tf\n",
        "import keras\n"
      ],
      "execution_count": 0,
      "outputs": [
        {
          "output_type": "stream",
          "text": [
            "Using TensorFlow backend.\n"
          ],
          "name": "stderr"
        }
      ]
    },
    {
      "cell_type": "code",
      "metadata": {
        "id": "UAjkI2ZkQ6E_",
        "colab_type": "code",
        "outputId": "7d5d771f-6ba3-4774-e42c-f615a4be665f",
        "colab": {
          "base_uri": "https://localhost:8080/",
          "height": 151
        }
      },
      "source": [
        "from keras.datasets import fashion_mnist\n",
        "fdata=fashion_mnist.load_data()"
      ],
      "execution_count": 0,
      "outputs": [
        {
          "output_type": "stream",
          "text": [
            "Downloading data from http://fashion-mnist.s3-website.eu-central-1.amazonaws.com/train-labels-idx1-ubyte.gz\n",
            "32768/29515 [=================================] - 0s 4us/step\n",
            "Downloading data from http://fashion-mnist.s3-website.eu-central-1.amazonaws.com/train-images-idx3-ubyte.gz\n",
            "26427392/26421880 [==============================] - 2s 0us/step\n",
            "Downloading data from http://fashion-mnist.s3-website.eu-central-1.amazonaws.com/t10k-labels-idx1-ubyte.gz\n",
            "8192/5148 [===============================================] - 0s 0us/step\n",
            "Downloading data from http://fashion-mnist.s3-website.eu-central-1.amazonaws.com/t10k-images-idx3-ubyte.gz\n",
            "4423680/4422102 [==============================] - 1s 0us/step\n"
          ],
          "name": "stdout"
        }
      ]
    },
    {
      "cell_type": "code",
      "metadata": {
        "id": "ofcFxZHXRF_N",
        "colab_type": "code",
        "colab": {}
      },
      "source": [
        "(train_im,train_label),(test_im,test_label)=fdata"
      ],
      "execution_count": 0,
      "outputs": []
    },
    {
      "cell_type": "code",
      "metadata": {
        "id": "GPbE7xWiRazX",
        "colab_type": "code",
        "outputId": "5f8c199c-9d93-4638-fce3-1256d3d828bb",
        "colab": {
          "base_uri": "https://localhost:8080/",
          "height": 282
        }
      },
      "source": [
        "train_im[0]\n",
        "import matplotlib.pyplot as plt\n",
        "import matplotlib.image as mpimg\n",
        "import numpy as np\n",
        "X=train_im[10000]\n",
        "plt.imshow(X, cmap=\"gray\")\n",
        "plt.show()\n",
        "print(train_label[10000])\n"
      ],
      "execution_count": 0,
      "outputs": [
        {
          "output_type": "display_data",
          "data": {
            "image/png": "[encoded data removed]",
            "text/plain": [
              "<Figure size 432x288 with 1 Axes>"
            ]
          },
          "metadata": {
            "tags": [],
            "needs_background": "light"
          }
        },
        {
          "output_type": "stream",
          "text": [
            "8\n"
          ],
          "name": "stdout"
        }
      ]
    },
    {
      "cell_type": "code",
      "metadata": {
        "id": "g9AjYFsqRq_i",
        "colab_type": "code",
        "colab": {}
      },
      "source": [
        "\n",
        "model=keras.Sequential([keras.layers.Flatten(input_shape=(28,28))])\n",
        "\n",
        "model.add(keras.layers.Dense(units=128,activation=tf.nn.relu))\n",
        "model.add(keras.layers.Dense(units=10,activation=tf.nn.softmax))"
      ],
      "execution_count": 0,
      "outputs": []
    },
    {
      "cell_type": "code",
      "metadata": {
        "id": "mui20M40VYV3",
        "colab_type": "code",
        "outputId": "88e6641c-24bd-45a9-f278-1e338a9cf20f",
        "colab": {
          "base_uri": "https://localhost:8080/",
          "height": 1000
        }
      },
      "source": [
        "train_im=train_im/255\n",
        "test_im=test_im/255\n",
        "model.compile(optimizer='adam',loss='sparse_categorical_crossentropy',metrics=['accuracy'])#whysparse categorical cross entropy??\n",
        "model.fit(train_im,train_label,epochs=40)"
      ],
      "execution_count": 0,
      "outputs": [
        {
          "output_type": "stream",
          "text": [
            "Epoch 1/40\n",
            "60000/60000 [==============================] - 5s 86us/step - loss: 0.5812 - accuracy: 0.7960\n",
            "Epoch 2/40\n",
            "60000/60000 [==============================] - 5s 86us/step - loss: 0.3935 - accuracy: 0.8593\n",
            "Epoch 3/40\n",
            "60000/60000 [==============================] - 5s 85us/step - loss: 0.3569 - accuracy: 0.8706\n",
            "Epoch 4/40\n",
            "60000/60000 [==============================] - 5s 85us/step - loss: 0.3367 - accuracy: 0.8786\n",
            "Epoch 5/40\n",
            "60000/60000 [==============================] - 5s 85us/step - loss: 0.3211 - accuracy: 0.8839\n",
            "Epoch 6/40\n",
            "60000/60000 [==============================] - 5s 87us/step - loss: 0.3100 - accuracy: 0.8872\n",
            "Epoch 7/40\n",
            "60000/60000 [==============================] - 5s 83us/step - loss: 0.2991 - accuracy: 0.8902\n",
            "Epoch 8/40\n",
            "60000/60000 [==============================] - 5s 84us/step - loss: 0.2920 - accuracy: 0.8925\n",
            "Epoch 9/40\n",
            "60000/60000 [==============================] - 5s 84us/step - loss: 0.2858 - accuracy: 0.8938\n",
            "Epoch 10/40\n",
            "60000/60000 [==============================] - 5s 83us/step - loss: 0.2783 - accuracy: 0.8975\n",
            "Epoch 11/40\n",
            "60000/60000 [==============================] - 5s 86us/step - loss: 0.2733 - accuracy: 0.8984\n",
            "Epoch 12/40\n",
            "60000/60000 [==============================] - 5s 84us/step - loss: 0.2677 - accuracy: 0.9013\n",
            "Epoch 13/40\n",
            "60000/60000 [==============================] - 5s 88us/step - loss: 0.2634 - accuracy: 0.9019\n",
            "Epoch 14/40\n",
            "60000/60000 [==============================] - 6s 93us/step - loss: 0.2581 - accuracy: 0.9043\n",
            "Epoch 15/40\n",
            "60000/60000 [==============================] - 5s 89us/step - loss: 0.2543 - accuracy: 0.9060\n",
            "Epoch 16/40\n",
            "60000/60000 [==============================] - 5s 87us/step - loss: 0.2504 - accuracy: 0.9077\n",
            "Epoch 17/40\n",
            "60000/60000 [==============================] - 5s 87us/step - loss: 0.2464 - accuracy: 0.9086\n",
            "Epoch 18/40\n",
            "60000/60000 [==============================] - 5s 90us/step - loss: 0.2433 - accuracy: 0.9085\n",
            "Epoch 19/40\n",
            "60000/60000 [==============================] - 5s 88us/step - loss: 0.2396 - accuracy: 0.9113\n",
            "Epoch 20/40\n",
            "60000/60000 [==============================] - 5s 91us/step - loss: 0.2381 - accuracy: 0.9116\n",
            "Epoch 21/40\n",
            "60000/60000 [==============================] - 5s 86us/step - loss: 0.2331 - accuracy: 0.9128\n",
            "Epoch 22/40\n",
            "60000/60000 [==============================] - 5s 87us/step - loss: 0.2302 - accuracy: 0.9146\n",
            "Epoch 23/40\n",
            "60000/60000 [==============================] - 5s 88us/step - loss: 0.2284 - accuracy: 0.9147\n",
            "Epoch 24/40\n",
            "60000/60000 [==============================] - 5s 86us/step - loss: 0.2260 - accuracy: 0.9158\n",
            "Epoch 25/40\n",
            "60000/60000 [==============================] - 5s 85us/step - loss: 0.2220 - accuracy: 0.9167\n",
            "Epoch 26/40\n",
            "60000/60000 [==============================] - 5s 87us/step - loss: 0.2206 - accuracy: 0.9187\n",
            "Epoch 27/40\n",
            "60000/60000 [==============================] - 5s 85us/step - loss: 0.2182 - accuracy: 0.9185\n",
            "Epoch 28/40\n",
            "60000/60000 [==============================] - 5s 85us/step - loss: 0.2156 - accuracy: 0.9201\n",
            "Epoch 29/40\n",
            "60000/60000 [==============================] - 5s 85us/step - loss: 0.2133 - accuracy: 0.9198\n",
            "Epoch 30/40\n",
            "60000/60000 [==============================] - 5s 84us/step - loss: 0.2111 - accuracy: 0.9222\n",
            "Epoch 31/40\n",
            "60000/60000 [==============================] - 5s 91us/step - loss: 0.2114 - accuracy: 0.9213\n",
            "Epoch 32/40\n",
            "60000/60000 [==============================] - 8s 132us/step - loss: 0.2073 - accuracy: 0.9234\n",
            "Epoch 33/40\n",
            "60000/60000 [==============================] - 6s 97us/step - loss: 0.2051 - accuracy: 0.9231\n",
            "Epoch 34/40\n",
            "60000/60000 [==============================] - 5s 85us/step - loss: 0.2042 - accuracy: 0.9245\n",
            "Epoch 35/40\n",
            "60000/60000 [==============================] - 5s 85us/step - loss: 0.2018 - accuracy: 0.9250\n",
            "Epoch 36/40\n",
            "60000/60000 [==============================] - 5s 86us/step - loss: 0.1992 - accuracy: 0.9262\n",
            "Epoch 37/40\n",
            "60000/60000 [==============================] - 5s 86us/step - loss: 0.1979 - accuracy: 0.9269\n",
            "Epoch 38/40\n",
            "60000/60000 [==============================] - 5s 86us/step - loss: 0.1960 - accuracy: 0.9266\n",
            "Epoch 39/40\n",
            "60000/60000 [==============================] - 5s 86us/step - loss: 0.1932 - accuracy: 0.9284\n",
            "Epoch 40/40\n",
            "60000/60000 [==============================] - 5s 88us/step - loss: 0.1932 - accuracy: 0.9289\n"
          ],
          "name": "stdout"
        },
        {
          "output_type": "execute_result",
          "data": {
            "text/plain": [
              "<keras.callbacks.callbacks.History at 0x7f53d6ba2b70>"
            ]
          },
          "metadata": {
            "tags": []
          },
          "execution_count": 25
        }
      ]
    },
    {
      "cell_type": "code",
      "metadata": {
        "id": "6LBMY27_WDCw",
        "colab_type": "code",
        "outputId": "5f28c6c7-b0d0-441a-e8fa-d6dfd3094d0b",
        "colab": {
          "base_uri": "https://localhost:8080/",
          "height": 50
        }
      },
      "source": [
        "\n",
        "model.evaluate(test_im,test_label)"
      ],
      "execution_count": 0,
      "outputs": [
        {
          "output_type": "stream",
          "text": [
            "10000/10000 [==============================] - 0s 25us/step\n"
          ],
          "name": "stdout"
        },
        {
          "output_type": "execute_result",
          "data": {
            "text/plain": [
              "0.6018092503070831"
            ]
          },
          "metadata": {
            "tags": []
          },
          "execution_count": 23
        }
      ]
    },
    {
      "cell_type": "code",
      "metadata": {
        "id": "QEtnM-jDYqM9",
        "colab_type": "code",
        "colab": {}
      },
      "source": [
        ""
      ],
      "execution_count": 0,
      "outputs": []
    }
  ]
}